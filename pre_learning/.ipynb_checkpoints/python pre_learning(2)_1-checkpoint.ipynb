{
 "cells": [
  {
   "cell_type": "code",
   "execution_count": 6,
   "metadata": {
    "scrolled": true
   },
   "outputs": [
    {
     "name": "stdout",
     "output_type": "stream",
     "text": [
      "1번 학생의 총점은 170점이고, 평균은 85.0입니다.\n",
      "2번 학생의 총점은 160점이고, 평균은 80.0입니다.\n",
      "3번 학생의 총점은 190점이고, 평균은 95.0입니다.\n"
     ]
    }
   ],
   "source": [
    "# 사전학습(2) 3차시\n",
    "\n",
    "student1 = (90, 80)\n",
    "student2 = (85, 75)\n",
    "student3 = (90, 100)\n",
    "\n",
    "s1_all = 0\n",
    "for s1 in student1:\n",
    "    s1_all += s1\n",
    "    \n",
    "s2_all = 0\n",
    "for s2 in student2:\n",
    "    s2_all += s2\n",
    "    \n",
    "s3_all = 0\n",
    "for s3 in student3:\n",
    "    s3_all += s3\n",
    "    \n",
    "print('1번 학생의 총점은 {}점이고, 평균은 {}입니다.'.format(s1_all, s1_all/2))\n",
    "print('2번 학생의 총점은 {}점이고, 평균은 {}입니다.'.format(s2_all, s2_all/2))\n",
    "print('3번 학생의 총점은 {}점이고, 평균은 {}입니다.'.format(s3_all, s3_all/2))"
   ]
  },
  {
   "cell_type": "code",
   "execution_count": 9,
   "metadata": {
    "scrolled": true
   },
   "outputs": [
    {
     "name": "stdout",
     "output_type": "stream",
     "text": [
      "Pythn s pwrfl... nd fst; plys wll wth thrs; rns vrywhr; s frndly & sy t lrn; s Opn.\n"
     ]
    }
   ],
   "source": [
    "# 사전학습(2) 4차시\n",
    "\n",
    "# Pythn s pwrfl... nd fst; plys wll wth thrs; rns vrywhr; s frndly & sy t lrn; s Opn.\n",
    "\n",
    "sentence = 'Python is powerful... and fast; plays well with others; runs everywhere; is friendly & easy to learn; is Open.'\n",
    "vowels = 'aeiou'\n",
    "\n",
    "result = ''\n",
    "for char in sentence:\n",
    "    if char not in vowels:\n",
    "        result += char\n",
    "print(result)"
   ]
  },
  {
   "cell_type": "code",
   "execution_count": 17,
   "metadata": {
    "scrolled": true
   },
   "outputs": [
    {
     "name": "stdout",
     "output_type": "stream",
     "text": [
      "[[2, 4, 8, 10, 16], [], [4, 8, 16, 20, 32], [5, 10, 20, 25, 40], [], [], [8, 16, 32, 40, 64], []]\n"
     ]
    }
   ],
   "source": [
    "# 사전학습(2) 5차시\n",
    "\n",
    "result = []\n",
    "for i in range(2, 10):\n",
    "    dan = []\n",
    "    for j in range(1, 10):\n",
    "        mul = i * j\n",
    "        if mul % 3 != 0 and mul % 7 != 0:\n",
    "            dan.append(mul)\n",
    "#     print(dan)\n",
    "    result.append(dan)\n",
    "print(result)"
   ]
  },
  {
   "cell_type": "code",
   "execution_count": 24,
   "metadata": {
    "scrolled": true
   },
   "outputs": [
    {
     "name": "stdout",
     "output_type": "stream",
     "text": [
      "10\n",
      "10\n",
      "20\n",
      "30\n",
      "40\n",
      "입력된 값 [10, 10, 20, 30, 40]의 평균은 22.0입니다.\n"
     ]
    }
   ],
   "source": [
    "# 사전학습(2) 6차시\n",
    "\n",
    "result = 0\n",
    "result_list = []\n",
    "for i in range(5):\n",
    "    num = int(input())\n",
    "    result_list.append(num)\n",
    "    result += num\n",
    "print('입력된 값 {}의 평균은 {}입니다.'.format(result_list, result/5))"
   ]
  },
  {
   "cell_type": "code",
   "execution_count": 28,
   "metadata": {
    "scrolled": true
   },
   "outputs": [
    {
     "name": "stdout",
     "output_type": "stream",
     "text": [
      "12\n",
      "[1, 2, 3, 4, 6, 12]\n"
     ]
    }
   ],
   "source": [
    "# 사전학습(2) 7차시\n",
    "\n",
    "num = int(input())\n",
    "\n",
    "result = []\n",
    "for i in range(1, num+1):\n",
    "    if num % i == 0:\n",
    "        result.append(i)\n",
    "print(result)"
   ]
  },
  {
   "cell_type": "code",
   "execution_count": 30,
   "metadata": {
    "scrolled": true
   },
   "outputs": [
    {
     "name": "stdout",
     "output_type": "stream",
     "text": [
      "32\n",
      "[1, 2, 4, 8, 16, 32]\n"
     ]
    }
   ],
   "source": [
    "# 사전학습(2) 8차시\n",
    "\n",
    "num = int(input())\n",
    "\n",
    "result = [i for i in range(1, num+1) if num % i == 0]\n",
    "print(result)"
   ]
  },
  {
   "cell_type": "code",
   "execution_count": 31,
   "metadata": {},
   "outputs": [
    {
     "name": "stdout",
     "output_type": "stream",
     "text": [
      "[28, 52, 100]\n"
     ]
    }
   ],
   "source": [
    "# 사전학습(2) 9차시\n",
    "\n",
    "num_list = [1, 3, 11, 15, 23, 28, 37, 52, 85, 100]\n",
    "\n",
    "result = []\n",
    "for n in num_list:\n",
    "    if n % 2 == 0:\n",
    "        result.append(n)\n",
    "print(result)"
   ]
  }
 ],
 "metadata": {
  "kernelspec": {
   "display_name": "Python 3",
   "language": "python",
   "name": "python3"
  },
  "language_info": {
   "codemirror_mode": {
    "name": "ipython",
    "version": 3
   },
   "file_extension": ".py",
   "mimetype": "text/x-python",
   "name": "python",
   "nbconvert_exporter": "python",
   "pygments_lexer": "ipython3",
   "version": "3.7.3"
  }
 },
 "nbformat": 4,
 "nbformat_minor": 2
}
