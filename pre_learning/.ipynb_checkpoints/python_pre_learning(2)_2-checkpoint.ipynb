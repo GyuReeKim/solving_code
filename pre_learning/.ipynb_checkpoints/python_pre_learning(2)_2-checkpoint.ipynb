{
 "cells": [
  {
   "cell_type": "code",
   "execution_count": 25,
   "metadata": {},
   "outputs": [
    {
     "name": "stdout",
     "output_type": "stream",
     "text": [
      "[['계시다', '가지다', '그', '개'], ['놀이'], ['들다', '다', '뒤', '듣다', '데리다'], [], ['막', '무척', '마리'], ['부모님', '비용', '비행기', '보이다'], ['싶다', '수출'], ['원래', '아이', '옳다'], ['좀', '자르다', '정도'], ['처리', '최초'], [], [], [], ['함께']]\n"
     ]
    }
   ],
   "source": [
    "# 사전학습(2) 13차시\n",
    "\n",
    "inputWord = ['막', '부모님', '비용', '비행기', '원래', '처리', '최초', '꼴', '좀', '들다', '싶다', '수출', '계시다', '다', '뒤', '듣다', '함께', '아이', '무척', '보이다', '가지다', '그', '자르다', '데리다', '마리', '개', '정도', '옳다', '놀이','뜨겁다']\n",
    "\n",
    "word_dict = {}\n",
    "for iW in inputWord:\n",
    "    if ord('가') <= ord(iW[0]) <= ord('깋'):\n",
    "        word_dict[iW] = 0\n",
    "    elif ord('나') <= ord(iW[0]) <= ord('닣'):\n",
    "        word_dict[iW] = 1\n",
    "    elif ord('다') <= ord(iW[0]) <= ord('딯'):\n",
    "        word_dict[iW] = 2\n",
    "    elif ord('라') <= ord(iW[0]) <= ord('맇'):\n",
    "        word_dict[iW] = 3\n",
    "    elif ord('마') <= ord(iW[0]) <= ord('밓'):\n",
    "        word_dict[iW] = 4\n",
    "    elif ord('바') <= ord(iW[0]) <= ord('빟'):\n",
    "        word_dict[iW] = 5\n",
    "    elif ord('사') <= ord(iW[0]) <= ord('싷'):\n",
    "        word_dict[iW] = 6\n",
    "    elif ord('아') <= ord(iW[0]) <= ord('잏'):\n",
    "        word_dict[iW] = 7\n",
    "    elif ord('자') <= ord(iW[0]) <= ord('짛'):\n",
    "        word_dict[iW] = 8\n",
    "    elif ord('차') <= ord(iW[0]) <= ord('칳'):\n",
    "        word_dict[iW] = 9\n",
    "    elif ord('카') <= ord(iW[0]) <= ord('킿'):\n",
    "        word_dict[iW] = 10\n",
    "    elif ord('타') <= ord(iW[0]) <= ord('팋'):\n",
    "        word_dict[iW] = 11\n",
    "    elif ord('파') <= ord(iW[0]) <= ord('핗'):\n",
    "        word_dict[iW] = 12\n",
    "    elif ord('하') <= ord(iW[0]) <= ord('힣'):\n",
    "        word_dict[iW] = 13\n",
    "# print(word_dict)\n",
    "\n",
    "arr = [[] for i in range(14)]\n",
    "\n",
    "for i in range(14):\n",
    "    for key, val in word_dict.items():\n",
    "        if i == val:\n",
    "            arr[i].append(key)\n",
    "print(arr)"
   ]
  },
  {
   "cell_type": "code",
   "execution_count": 20,
   "metadata": {},
   "outputs": [
    {
     "name": "stdout",
     "output_type": "stream",
     "text": [
      "{'막': 4, '부모님': 5, '비용': 5, '비행기': 5, '원래': 7, '처리': 9, '최초': 9, '좀': 8, '들다': 2, '싶다': 6, '수출': 6, '계시다': 0, '다': 2, '뒤': 2, '듣다': 2, '함께': 13, '아이': 7, '무척': 4, '보이다': 5, '가지다': 0, '그': 0, '자르다': 8, '데리다': 2, '마리': 4, '개': 0, '정도': 8, '옳다': 7, '놀이': 1}\n"
     ]
    }
   ],
   "source": [
    "word_dict = {}\n",
    "for iW in inputWord:\n",
    "    if ord('가') <= ord(iW[0]) <= ord('깋'):\n",
    "        word_dict[iW] = 0\n",
    "    elif ord('나') <= ord(iW[0]) <= ord('닣'):\n",
    "        word_dict[iW] = 1\n",
    "    elif ord('다') <= ord(iW[0]) <= ord('딯'):\n",
    "        word_dict[iW] = 2\n",
    "    elif ord('라') <= ord(iW[0]) <= ord('맇'):\n",
    "        word_dict[iW] = 3\n",
    "    elif ord('마') <= ord(iW[0]) <= ord('밓'):\n",
    "        word_dict[iW] = 4\n",
    "    elif ord('바') <= ord(iW[0]) <= ord('빟'):\n",
    "        word_dict[iW] = 5\n",
    "    elif ord('사') <= ord(iW[0]) <= ord('싷'):\n",
    "        word_dict[iW] = 6\n",
    "    elif ord('아') <= ord(iW[0]) <= ord('잏'):\n",
    "        word_dict[iW] = 7\n",
    "    elif ord('자') <= ord(iW[0]) <= ord('짛'):\n",
    "        word_dict[iW] = 8\n",
    "    elif ord('차') <= ord(iW[0]) <= ord('칳'):\n",
    "        word_dict[iW] = 9\n",
    "    elif ord('카') <= ord(iW[0]) <= ord('킿'):\n",
    "        word_dict[iW] = 10\n",
    "    elif ord('타') <= ord(iW[0]) <= ord('팋'):\n",
    "        word_dict[iW] = 11\n",
    "    elif ord('파') <= ord(iW[0]) <= ord('핗'):\n",
    "        word_dict[iW] = 12\n",
    "    elif ord('하') <= ord(iW[0]) <= ord('힣'):\n",
    "        word_dict[iW] = 13\n",
    "print(word_dict)    "
   ]
  },
  {
   "cell_type": "code",
   "execution_count": 10,
   "metadata": {
    "scrolled": true
   },
   "outputs": [
    {
     "name": "stdout",
     "output_type": "stream",
     "text": [
      "44032\n",
      "44619\n",
      "44852\n"
     ]
    }
   ],
   "source": [
    "print(ord('가'))\n",
    "print(ord('깋'))\n",
    "print(ord('꼴'))"
   ]
  },
  {
   "cell_type": "code",
   "execution_count": 7,
   "metadata": {
    "scrolled": true
   },
   "outputs": [
    {
     "name": "stdout",
     "output_type": "stream",
     "text": [
      "12, 34, 56, 78\n",
      "[12, 34, 56, 78]\n",
      "(12, 34, 56, 78)\n"
     ]
    }
   ],
   "source": [
    "# 사전학습(2) 14차시\n",
    "\n",
    "numbers = list(map(int, input().split(',')))\n",
    "print(numbers)\n",
    "print(tuple(numbers))"
   ]
  },
  {
   "cell_type": "code",
   "execution_count": 18,
   "metadata": {
    "scrolled": true
   },
   "outputs": [
    {
     "name": "stdout",
     "output_type": "stream",
     "text": [
      "2, 3, 4, 5\n",
      "12.57, 18.85, 25.13, 31.42\n"
     ]
    }
   ],
   "source": [
    "# 사전학습(2) 15차시\n",
    "\n",
    "# 12.57, 18.85, 25.13, 31.42\n",
    "\n",
    "numbers = list(map(int, input().split(',')))\n",
    "\n",
    "result = []\n",
    "for number in numbers:\n",
    "    number = number * 2 * 3.1415\n",
    "    result.append(str(round(number, 2)))\n",
    "print(', '.join(result))"
   ]
  }
 ],
 "metadata": {
  "kernelspec": {
   "display_name": "Python 3",
   "language": "python",
   "name": "python3"
  },
  "language_info": {
   "codemirror_mode": {
    "name": "ipython",
    "version": 3
   },
   "file_extension": ".py",
   "mimetype": "text/x-python",
   "name": "python",
   "nbconvert_exporter": "python",
   "pygments_lexer": "ipython3",
   "version": "3.7.3"
  }
 },
 "nbformat": 4,
 "nbformat_minor": 2
}
