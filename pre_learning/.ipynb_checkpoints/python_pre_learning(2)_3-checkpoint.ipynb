{
 "cells": [
  {
   "cell_type": "code",
   "execution_count": 3,
   "metadata": {},
   "outputs": [
    {
     "name": "stdout",
     "output_type": "stream",
     "text": [
      "3, 5\n",
      "[[0, 0, 0, 0, 0], [0, 1, 2, 3, 4], [0, 2, 4, 6, 8]]\n"
     ]
    }
   ],
   "source": [
    "# 사전학습(2) 16차시\n",
    "\n",
    "N, M = list(map(int, input().split(',')))\n",
    "\n",
    "arr = [[0]*M for i in range(N)]\n",
    "# print(arr)\n",
    "\n",
    "for i in range(N):\n",
    "    for j in range(M):\n",
    "        arr[i][j] = i*j\n",
    "print(arr)"
   ]
  },
  {
   "cell_type": "code",
   "execution_count": 4,
   "metadata": {
    "scrolled": true
   },
   "outputs": [
    {
     "name": "stdout",
     "output_type": "stream",
     "text": [
      "hello, hi, python, world\n"
     ]
    }
   ],
   "source": [
    "# 사전학습(2) 17차시\n",
    "\n",
    "words = ['python', 'hello', 'world', 'hi']\n",
    "\n",
    "words_new = sorted(words)\n",
    "\n",
    "print(', '.join(words_new))"
   ]
  },
  {
   "cell_type": "code",
   "execution_count": 6,
   "metadata": {
    "scrolled": true
   },
   "outputs": [
    {
     "name": "stdout",
     "output_type": "stream",
     "text": [
      "1, 2, 3, 4, 5\n",
      "1, 3, 5\n"
     ]
    }
   ],
   "source": [
    "# 사전학습(2) 18차시\n",
    "\n",
    "N = input().split(',')\n",
    "\n",
    "result = [str(n) for n in range(1, len(N)+1) if n % 2]\n",
    "print(', '.join(result))"
   ]
  },
  {
   "cell_type": "code",
   "execution_count": 8,
   "metadata": {
    "scrolled": true
   },
   "outputs": [
    {
     "name": "stdout",
     "output_type": "stream",
     "text": [
      "(1, 2, 3, 4, 5)\n",
      "(6, 7, 8, 9, 10)\n"
     ]
    }
   ],
   "source": [
    "# 사전학습(2) 19차시\n",
    "\n",
    "N = (1,2,3,4,5,6,7,8,9,10)\n",
    "\n",
    "l1 = []\n",
    "l2 = []\n",
    "for n in range(len(N)):\n",
    "    if n < 5:\n",
    "        l1.append(n+1)\n",
    "    else:\n",
    "        l2.append(n+1)\n",
    "print(tuple(l1))\n",
    "print(tuple(l2))"
   ]
  }
 ],
 "metadata": {
  "kernelspec": {
   "display_name": "Python 3",
   "language": "python",
   "name": "python3"
  },
  "language_info": {
   "codemirror_mode": {
    "name": "ipython",
    "version": 3
   },
   "file_extension": ".py",
   "mimetype": "text/x-python",
   "name": "python",
   "nbconvert_exporter": "python",
   "pygments_lexer": "ipython3",
   "version": "3.7.3"
  }
 },
 "nbformat": 4,
 "nbformat_minor": 2
}
